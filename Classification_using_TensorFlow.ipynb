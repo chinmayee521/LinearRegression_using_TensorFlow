{
  "nbformat": 4,
  "nbformat_minor": 0,
  "metadata": {
    "colab": {
      "name": "Classification_using_TensorFlow.ipynb",
      "provenance": [],
      "collapsed_sections": []
    },
    "kernelspec": {
      "name": "python3",
      "display_name": "Python 3"
    },
    "language_info": {
      "name": "python"
    }
  },
  "cells": [
    {
      "cell_type": "code",
      "metadata": {
        "id": "rpccRSB-Iy4i"
      },
      "source": [
        "%tensorflow_version 2.x"
      ],
      "execution_count": 1,
      "outputs": []
    },
    {
      "cell_type": "code",
      "metadata": {
        "id": "sKJ_J4OwJz3Z"
      },
      "source": [
        "from __future__ import absolute_import, division, print_function, unicode_literals\n",
        "\n",
        "import tensorflow as tf\n",
        "import pandas as pd\n"
      ],
      "execution_count": 2,
      "outputs": []
    },
    {
      "cell_type": "code",
      "metadata": {
        "id": "LqMxjOOuLFpL"
      },
      "source": [
        "#Dataset- IRIS dataset\n",
        "#3 different classes of species -Setosa, Versicolor, Virginica\n",
        "#information about each flower is given-\n",
        "#sepal length, sepal width, petal length, petal width"
      ],
      "execution_count": null,
      "outputs": []
    },
    {
      "cell_type": "code",
      "metadata": {
        "id": "hIk03IX6LeTM"
      },
      "source": [
        "COLUMN_NAMES = ['SepalLength', 'SepalWidth', 'PetalLength', 'PetalWidth', 'Species']\n",
        "SPECIES = ['Setosa', 'Versicolor', 'Virginica']"
      ],
      "execution_count": 3,
      "outputs": []
    },
    {
      "cell_type": "code",
      "metadata": {
        "colab": {
          "base_uri": "https://localhost:8080/"
        },
        "id": "kDupCv0PMCeh",
        "outputId": "ffa39e07-ef87-4c04-8df0-fd06960a6033"
      },
      "source": [
        "#Load the dataset from keras\n",
        "#keras is a module inside tensorflow\n",
        "train_path = tf.keras.utils.get_file(\"iris_training.csv\", \n",
        "  \"https://storage.googleapis.com/download.tensorflow.org/data/iris_training.csv\")\n",
        "test_path = tf.keras.utils.get_file(\"iris_test.csv\", \n",
        "  \"https://storage.googleapis.com/download.tensorflow.org/data/iris_test.csv\")\n",
        "\n",
        "#Read the dataset\n",
        "train = pd.read_csv(train_path, names=COLUMN_NAMES, header=0) #header=0 ->row 0 is column name/header\n",
        "test = pd.read_csv(test_path, names=COLUMN_NAMES, header=0)"
      ],
      "execution_count": 4,
      "outputs": [
        {
          "output_type": "stream",
          "text": [
            "Downloading data from https://storage.googleapis.com/download.tensorflow.org/data/iris_training.csv\n",
            "8192/2194 [================================================================================================================] - 0s 0us/step\n",
            "Downloading data from https://storage.googleapis.com/download.tensorflow.org/data/iris_test.csv\n",
            "8192/573 [============================================================================================================================================================================================================================================================================================================================================================================================================================================] - 0s 0us/step\n"
          ],
          "name": "stdout"
        }
      ]
    },
    {
      "cell_type": "code",
      "metadata": {
        "colab": {
          "base_uri": "https://localhost:8080/",
          "height": 203
        },
        "id": "DcfGaw7uOIUw",
        "outputId": "49cf6355-4caf-40dc-d6e4-ef796e9450b1"
      },
      "source": [
        "train.head()"
      ],
      "execution_count": 5,
      "outputs": [
        {
          "output_type": "execute_result",
          "data": {
            "text/html": [
              "<div>\n",
              "<style scoped>\n",
              "    .dataframe tbody tr th:only-of-type {\n",
              "        vertical-align: middle;\n",
              "    }\n",
              "\n",
              "    .dataframe tbody tr th {\n",
              "        vertical-align: top;\n",
              "    }\n",
              "\n",
              "    .dataframe thead th {\n",
              "        text-align: right;\n",
              "    }\n",
              "</style>\n",
              "<table border=\"1\" class=\"dataframe\">\n",
              "  <thead>\n",
              "    <tr style=\"text-align: right;\">\n",
              "      <th></th>\n",
              "      <th>SepalLength</th>\n",
              "      <th>SepalWidth</th>\n",
              "      <th>PetalLength</th>\n",
              "      <th>PetalWidth</th>\n",
              "      <th>Species</th>\n",
              "    </tr>\n",
              "  </thead>\n",
              "  <tbody>\n",
              "    <tr>\n",
              "      <th>0</th>\n",
              "      <td>6.4</td>\n",
              "      <td>2.8</td>\n",
              "      <td>5.6</td>\n",
              "      <td>2.2</td>\n",
              "      <td>2</td>\n",
              "    </tr>\n",
              "    <tr>\n",
              "      <th>1</th>\n",
              "      <td>5.0</td>\n",
              "      <td>2.3</td>\n",
              "      <td>3.3</td>\n",
              "      <td>1.0</td>\n",
              "      <td>1</td>\n",
              "    </tr>\n",
              "    <tr>\n",
              "      <th>2</th>\n",
              "      <td>4.9</td>\n",
              "      <td>2.5</td>\n",
              "      <td>4.5</td>\n",
              "      <td>1.7</td>\n",
              "      <td>2</td>\n",
              "    </tr>\n",
              "    <tr>\n",
              "      <th>3</th>\n",
              "      <td>4.9</td>\n",
              "      <td>3.1</td>\n",
              "      <td>1.5</td>\n",
              "      <td>0.1</td>\n",
              "      <td>0</td>\n",
              "    </tr>\n",
              "    <tr>\n",
              "      <th>4</th>\n",
              "      <td>5.7</td>\n",
              "      <td>3.8</td>\n",
              "      <td>1.7</td>\n",
              "      <td>0.3</td>\n",
              "      <td>0</td>\n",
              "    </tr>\n",
              "  </tbody>\n",
              "</table>\n",
              "</div>"
            ],
            "text/plain": [
              "   SepalLength  SepalWidth  PetalLength  PetalWidth  Species\n",
              "0          6.4         2.8          5.6         2.2        2\n",
              "1          5.0         2.3          3.3         1.0        1\n",
              "2          4.9         2.5          4.5         1.7        2\n",
              "3          4.9         3.1          1.5         0.1        0\n",
              "4          5.7         3.8          1.7         0.3        0"
            ]
          },
          "metadata": {
            "tags": []
          },
          "execution_count": 5
        }
      ]
    },
    {
      "cell_type": "code",
      "metadata": {
        "colab": {
          "base_uri": "https://localhost:8080/",
          "height": 203
        },
        "id": "h4ALRpDdOPgv",
        "outputId": "fad13155-33a8-4c39-b441-82f7faf3d5c2"
      },
      "source": [
        "#pop the Species column off -Species is label\n",
        "\n",
        "train_y = train.pop('Species')\n",
        "test_y = test.pop('Species')\n",
        "train.head() #species column is gone"
      ],
      "execution_count": 6,
      "outputs": [
        {
          "output_type": "execute_result",
          "data": {
            "text/html": [
              "<div>\n",
              "<style scoped>\n",
              "    .dataframe tbody tr th:only-of-type {\n",
              "        vertical-align: middle;\n",
              "    }\n",
              "\n",
              "    .dataframe tbody tr th {\n",
              "        vertical-align: top;\n",
              "    }\n",
              "\n",
              "    .dataframe thead th {\n",
              "        text-align: right;\n",
              "    }\n",
              "</style>\n",
              "<table border=\"1\" class=\"dataframe\">\n",
              "  <thead>\n",
              "    <tr style=\"text-align: right;\">\n",
              "      <th></th>\n",
              "      <th>SepalLength</th>\n",
              "      <th>SepalWidth</th>\n",
              "      <th>PetalLength</th>\n",
              "      <th>PetalWidth</th>\n",
              "    </tr>\n",
              "  </thead>\n",
              "  <tbody>\n",
              "    <tr>\n",
              "      <th>0</th>\n",
              "      <td>6.4</td>\n",
              "      <td>2.8</td>\n",
              "      <td>5.6</td>\n",
              "      <td>2.2</td>\n",
              "    </tr>\n",
              "    <tr>\n",
              "      <th>1</th>\n",
              "      <td>5.0</td>\n",
              "      <td>2.3</td>\n",
              "      <td>3.3</td>\n",
              "      <td>1.0</td>\n",
              "    </tr>\n",
              "    <tr>\n",
              "      <th>2</th>\n",
              "      <td>4.9</td>\n",
              "      <td>2.5</td>\n",
              "      <td>4.5</td>\n",
              "      <td>1.7</td>\n",
              "    </tr>\n",
              "    <tr>\n",
              "      <th>3</th>\n",
              "      <td>4.9</td>\n",
              "      <td>3.1</td>\n",
              "      <td>1.5</td>\n",
              "      <td>0.1</td>\n",
              "    </tr>\n",
              "    <tr>\n",
              "      <th>4</th>\n",
              "      <td>5.7</td>\n",
              "      <td>3.8</td>\n",
              "      <td>1.7</td>\n",
              "      <td>0.3</td>\n",
              "    </tr>\n",
              "  </tbody>\n",
              "</table>\n",
              "</div>"
            ],
            "text/plain": [
              "   SepalLength  SepalWidth  PetalLength  PetalWidth\n",
              "0          6.4         2.8          5.6         2.2\n",
              "1          5.0         2.3          3.3         1.0\n",
              "2          4.9         2.5          4.5         1.7\n",
              "3          4.9         3.1          1.5         0.1\n",
              "4          5.7         3.8          1.7         0.3"
            ]
          },
          "metadata": {
            "tags": []
          },
          "execution_count": 6
        }
      ]
    },
    {
      "cell_type": "code",
      "metadata": {
        "colab": {
          "base_uri": "https://localhost:8080/"
        },
        "id": "Fh1PUpeqPdcz",
        "outputId": "9c4d0aa0-4eda-44dc-b2ad-c83f30473d47"
      },
      "source": [
        "train.shape #120 entries with 4 features"
      ],
      "execution_count": 7,
      "outputs": [
        {
          "output_type": "execute_result",
          "data": {
            "text/plain": [
              "(120, 4)"
            ]
          },
          "metadata": {
            "tags": []
          },
          "execution_count": 7
        }
      ]
    },
    {
      "cell_type": "code",
      "metadata": {
        "colab": {
          "base_uri": "https://localhost:8080/"
        },
        "id": "Y5l8gwrRPpZU",
        "outputId": "9b91f072-e11b-4902-896a-a97496c26791"
      },
      "source": [
        "train_y.head()"
      ],
      "execution_count": 8,
      "outputs": [
        {
          "output_type": "execute_result",
          "data": {
            "text/plain": [
              "0    2\n",
              "1    1\n",
              "2    2\n",
              "3    0\n",
              "4    0\n",
              "Name: Species, dtype: int64"
            ]
          },
          "metadata": {
            "tags": []
          },
          "execution_count": 8
        }
      ]
    },
    {
      "cell_type": "code",
      "metadata": {
        "colab": {
          "base_uri": "https://localhost:8080/"
        },
        "id": "GhWkTgb9Pphj",
        "outputId": "47810d23-5928-4593-f4a5-6260c5e035c7"
      },
      "source": [
        "test_y.head()"
      ],
      "execution_count": 9,
      "outputs": [
        {
          "output_type": "execute_result",
          "data": {
            "text/plain": [
              "0    1\n",
              "1    2\n",
              "2    0\n",
              "3    1\n",
              "4    1\n",
              "Name: Species, dtype: int64"
            ]
          },
          "metadata": {
            "tags": []
          },
          "execution_count": 9
        }
      ]
    },
    {
      "cell_type": "code",
      "metadata": {
        "id": "naYlfH_SPkNj"
      },
      "source": [
        "#Input Function\n",
        "def input_fn(features, labels, training=True, batch_size=256):\n",
        "  #convert inputs to dataset\n",
        "  dataset = tf.data.Dataset.from_tensor_slices((dict(features), labels))\n",
        "\n",
        "  #shuffle and repeat if you are in training mode\n",
        "  if training:\n",
        "    dataset = dataset.shuffle(1000).repeat()\n",
        "\n",
        "  return dataset.batch(batch_size)"
      ],
      "execution_count": 10,
      "outputs": []
    },
    {
      "cell_type": "code",
      "metadata": {
        "colab": {
          "base_uri": "https://localhost:8080/"
        },
        "id": "DmeffxWyPkQS",
        "outputId": "97192795-1d27-4e7b-ca3d-2cbb0637a521"
      },
      "source": [
        "#Feature Columns - they describe how to use the input\n",
        "my_feature_columns = []\n",
        "for key in train.keys():\n",
        "  my_feature_columns.append(tf.feature_column.numeric_column(key=key))\n",
        "print(my_feature_columns)"
      ],
      "execution_count": 11,
      "outputs": [
        {
          "output_type": "stream",
          "text": [
            "[NumericColumn(key='SepalLength', shape=(1,), default_value=None, dtype=tf.float32, normalizer_fn=None), NumericColumn(key='SepalWidth', shape=(1,), default_value=None, dtype=tf.float32, normalizer_fn=None), NumericColumn(key='PetalLength', shape=(1,), default_value=None, dtype=tf.float32, normalizer_fn=None), NumericColumn(key='PetalWidth', shape=(1,), default_value=None, dtype=tf.float32, normalizer_fn=None)]\n"
          ],
          "name": "stdout"
        }
      ]
    },
    {
      "cell_type": "code",
      "metadata": {
        "id": "--bUdxc3Q_Kz"
      },
      "source": [
        "#Build the model\n",
        "#for classification we have different estimators/models\n",
        "#DNNClassifier (Deep Neural Network), LinearClassifier\n",
        "#DNNClassifier-best choice->we may not be able to find a linear correspondence in our data \n"
      ],
      "execution_count": null,
      "outputs": []
    },
    {
      "cell_type": "code",
      "metadata": {
        "colab": {
          "base_uri": "https://localhost:8080/"
        },
        "id": "PWTlUYQpQ_NX",
        "outputId": "e90e40d0-ec65-4aa2-d457-95c83e5baa01"
      },
      "source": [
        "#Build DNN model with 2 hidden layers with 30 and 10 hidden nodes each\n",
        "classifier = tf.estimator.DNNClassifier(\n",
        "    feature_columns=my_feature_columns,\n",
        "    #2 hidden layers pf 30 and 10 nodes resp\n",
        "    hidden_units=[30,10],\n",
        "    #the model must choose between 3 classes\n",
        "    n_classes=3\n",
        ")"
      ],
      "execution_count": 12,
      "outputs": [
        {
          "output_type": "stream",
          "text": [
            "INFO:tensorflow:Using default config.\n",
            "WARNING:tensorflow:Using temporary folder as model directory: /tmp/tmp9z48hj4g\n",
            "INFO:tensorflow:Using config: {'_model_dir': '/tmp/tmp9z48hj4g', '_tf_random_seed': None, '_save_summary_steps': 100, '_save_checkpoints_steps': None, '_save_checkpoints_secs': 600, '_session_config': allow_soft_placement: true\n",
            "graph_options {\n",
            "  rewrite_options {\n",
            "    meta_optimizer_iterations: ONE\n",
            "  }\n",
            "}\n",
            ", '_keep_checkpoint_max': 5, '_keep_checkpoint_every_n_hours': 10000, '_log_step_count_steps': 100, '_train_distribute': None, '_device_fn': None, '_protocol': None, '_eval_distribute': None, '_experimental_distribute': None, '_experimental_max_worker_delay_secs': None, '_session_creation_timeout_secs': 7200, '_checkpoint_save_graph_def': True, '_service': None, '_cluster_spec': ClusterSpec({}), '_task_type': 'worker', '_task_id': 0, '_global_id_in_cluster': 0, '_master': '', '_evaluation_master': '', '_is_chief': True, '_num_ps_replicas': 0, '_num_worker_replicas': 1}\n"
          ],
          "name": "stdout"
        }
      ]
    },
    {
      "cell_type": "code",
      "metadata": {
        "colab": {
          "base_uri": "https://localhost:8080/"
        },
        "id": "sPlYppUmS2hj",
        "outputId": "6b9713fc-33a9-42e7-b623-75c11ba498dc"
      },
      "source": [
        "#Train the model\n",
        "#lambda used to avoid creating an inner input function\n",
        "#lambda-anonymous fn\n",
        "#example of lambda ->\n",
        "#x = lambda: print(\"hii\")\n",
        "#x()  valid\n",
        "classifier.train(\n",
        "    input_fn = lambda: input_fn(train, train_y, training=True),\n",
        "    steps=5000  #similar to epoch- it will go through dataset until 5000 things have been looked at\n",
        ")"
      ],
      "execution_count": 14,
      "outputs": [
        {
          "output_type": "stream",
          "text": [
            "INFO:tensorflow:Calling model_fn.\n",
            "INFO:tensorflow:Done calling model_fn.\n",
            "INFO:tensorflow:Create CheckpointSaverHook.\n",
            "INFO:tensorflow:Graph was finalized.\n",
            "INFO:tensorflow:Restoring parameters from /tmp/tmp9z48hj4g/model.ckpt-5000\n",
            "WARNING:tensorflow:From /usr/local/lib/python3.7/dist-packages/tensorflow/python/training/saver.py:1078: get_checkpoint_mtimes (from tensorflow.python.training.checkpoint_management) is deprecated and will be removed in a future version.\n",
            "Instructions for updating:\n",
            "Use standard file utilities to get mtimes.\n",
            "INFO:tensorflow:Running local_init_op.\n",
            "INFO:tensorflow:Done running local_init_op.\n",
            "INFO:tensorflow:Calling checkpoint listeners before saving checkpoint 5000...\n",
            "INFO:tensorflow:Saving checkpoints for 5000 into /tmp/tmp9z48hj4g/model.ckpt.\n",
            "INFO:tensorflow:Calling checkpoint listeners after saving checkpoint 5000...\n",
            "INFO:tensorflow:loss = 0.7030529, step = 5000\n",
            "INFO:tensorflow:global_step/sec: 474.65\n",
            "INFO:tensorflow:loss = 0.7045547, step = 5100 (0.212 sec)\n",
            "INFO:tensorflow:global_step/sec: 555.804\n",
            "INFO:tensorflow:loss = 0.69001865, step = 5200 (0.183 sec)\n",
            "INFO:tensorflow:global_step/sec: 522.076\n",
            "INFO:tensorflow:loss = 0.68547535, step = 5300 (0.192 sec)\n",
            "INFO:tensorflow:global_step/sec: 578.348\n",
            "INFO:tensorflow:loss = 0.6759008, step = 5400 (0.172 sec)\n",
            "INFO:tensorflow:global_step/sec: 593.598\n",
            "INFO:tensorflow:loss = 0.6732661, step = 5500 (0.169 sec)\n",
            "INFO:tensorflow:global_step/sec: 575.3\n",
            "INFO:tensorflow:loss = 0.66526955, step = 5600 (0.174 sec)\n",
            "INFO:tensorflow:global_step/sec: 590.483\n",
            "INFO:tensorflow:loss = 0.6534389, step = 5700 (0.167 sec)\n",
            "INFO:tensorflow:global_step/sec: 617.835\n",
            "INFO:tensorflow:loss = 0.6572862, step = 5800 (0.162 sec)\n",
            "INFO:tensorflow:global_step/sec: 569.529\n",
            "INFO:tensorflow:loss = 0.64775085, step = 5900 (0.175 sec)\n",
            "INFO:tensorflow:global_step/sec: 531.481\n",
            "INFO:tensorflow:loss = 0.63490045, step = 6000 (0.192 sec)\n",
            "INFO:tensorflow:global_step/sec: 586.646\n",
            "INFO:tensorflow:loss = 0.6429926, step = 6100 (0.169 sec)\n",
            "INFO:tensorflow:global_step/sec: 597.449\n",
            "INFO:tensorflow:loss = 0.62762976, step = 6200 (0.167 sec)\n",
            "INFO:tensorflow:global_step/sec: 602.152\n",
            "INFO:tensorflow:loss = 0.6334667, step = 6300 (0.168 sec)\n",
            "INFO:tensorflow:global_step/sec: 551.962\n",
            "INFO:tensorflow:loss = 0.60945094, step = 6400 (0.181 sec)\n",
            "INFO:tensorflow:global_step/sec: 515.892\n",
            "INFO:tensorflow:loss = 0.612126, step = 6500 (0.194 sec)\n",
            "INFO:tensorflow:global_step/sec: 561.723\n",
            "INFO:tensorflow:loss = 0.6001588, step = 6600 (0.177 sec)\n",
            "INFO:tensorflow:global_step/sec: 567.921\n",
            "INFO:tensorflow:loss = 0.6073665, step = 6700 (0.173 sec)\n",
            "INFO:tensorflow:global_step/sec: 595.888\n",
            "INFO:tensorflow:loss = 0.594254, step = 6800 (0.171 sec)\n",
            "INFO:tensorflow:global_step/sec: 560.136\n",
            "INFO:tensorflow:loss = 0.5999129, step = 6900 (0.178 sec)\n",
            "INFO:tensorflow:global_step/sec: 545.444\n",
            "INFO:tensorflow:loss = 0.5887296, step = 7000 (0.182 sec)\n",
            "INFO:tensorflow:global_step/sec: 558.358\n",
            "INFO:tensorflow:loss = 0.583006, step = 7100 (0.181 sec)\n",
            "INFO:tensorflow:global_step/sec: 567.072\n",
            "INFO:tensorflow:loss = 0.57413113, step = 7200 (0.176 sec)\n",
            "INFO:tensorflow:global_step/sec: 552.706\n",
            "INFO:tensorflow:loss = 0.5877595, step = 7300 (0.179 sec)\n",
            "INFO:tensorflow:global_step/sec: 557.197\n",
            "INFO:tensorflow:loss = 0.5647638, step = 7400 (0.182 sec)\n",
            "INFO:tensorflow:global_step/sec: 600.54\n",
            "INFO:tensorflow:loss = 0.57071555, step = 7500 (0.163 sec)\n",
            "INFO:tensorflow:global_step/sec: 579.969\n",
            "INFO:tensorflow:loss = 0.56733066, step = 7600 (0.175 sec)\n",
            "INFO:tensorflow:global_step/sec: 601.992\n",
            "INFO:tensorflow:loss = 0.567528, step = 7700 (0.164 sec)\n",
            "INFO:tensorflow:global_step/sec: 587.078\n",
            "INFO:tensorflow:loss = 0.55095434, step = 7800 (0.174 sec)\n",
            "INFO:tensorflow:global_step/sec: 593.096\n",
            "INFO:tensorflow:loss = 0.5586498, step = 7900 (0.168 sec)\n",
            "INFO:tensorflow:global_step/sec: 584.286\n",
            "INFO:tensorflow:loss = 0.5454781, step = 8000 (0.171 sec)\n",
            "INFO:tensorflow:global_step/sec: 580.781\n",
            "INFO:tensorflow:loss = 0.53358305, step = 8100 (0.172 sec)\n",
            "INFO:tensorflow:global_step/sec: 573.184\n",
            "INFO:tensorflow:loss = 0.537223, step = 8200 (0.173 sec)\n",
            "INFO:tensorflow:global_step/sec: 578.393\n",
            "INFO:tensorflow:loss = 0.53295153, step = 8300 (0.174 sec)\n",
            "INFO:tensorflow:global_step/sec: 594.341\n",
            "INFO:tensorflow:loss = 0.5333279, step = 8400 (0.165 sec)\n",
            "INFO:tensorflow:global_step/sec: 587.816\n",
            "INFO:tensorflow:loss = 0.5258231, step = 8500 (0.173 sec)\n",
            "INFO:tensorflow:global_step/sec: 602.401\n",
            "INFO:tensorflow:loss = 0.52408534, step = 8600 (0.166 sec)\n",
            "INFO:tensorflow:global_step/sec: 608.762\n",
            "INFO:tensorflow:loss = 0.51640606, step = 8700 (0.162 sec)\n",
            "INFO:tensorflow:global_step/sec: 564.378\n",
            "INFO:tensorflow:loss = 0.4959856, step = 8800 (0.180 sec)\n",
            "INFO:tensorflow:global_step/sec: 562.269\n",
            "INFO:tensorflow:loss = 0.5076657, step = 8900 (0.175 sec)\n",
            "INFO:tensorflow:global_step/sec: 581.032\n",
            "INFO:tensorflow:loss = 0.50175464, step = 9000 (0.175 sec)\n",
            "INFO:tensorflow:global_step/sec: 623.169\n",
            "INFO:tensorflow:loss = 0.50285256, step = 9100 (0.161 sec)\n",
            "INFO:tensorflow:global_step/sec: 597.758\n",
            "INFO:tensorflow:loss = 0.49806663, step = 9200 (0.167 sec)\n",
            "INFO:tensorflow:global_step/sec: 569.478\n",
            "INFO:tensorflow:loss = 0.49568278, step = 9300 (0.173 sec)\n",
            "INFO:tensorflow:global_step/sec: 581.419\n",
            "INFO:tensorflow:loss = 0.49687964, step = 9400 (0.172 sec)\n",
            "INFO:tensorflow:global_step/sec: 601.509\n",
            "INFO:tensorflow:loss = 0.4883268, step = 9500 (0.168 sec)\n",
            "INFO:tensorflow:global_step/sec: 602.357\n",
            "INFO:tensorflow:loss = 0.49144313, step = 9600 (0.164 sec)\n",
            "INFO:tensorflow:global_step/sec: 554.589\n",
            "INFO:tensorflow:loss = 0.476784, step = 9700 (0.180 sec)\n",
            "INFO:tensorflow:global_step/sec: 578.079\n",
            "INFO:tensorflow:loss = 0.48323688, step = 9800 (0.173 sec)\n",
            "INFO:tensorflow:global_step/sec: 590.501\n",
            "INFO:tensorflow:loss = 0.47558707, step = 9900 (0.173 sec)\n",
            "INFO:tensorflow:Calling checkpoint listeners before saving checkpoint 10000...\n",
            "INFO:tensorflow:Saving checkpoints for 10000 into /tmp/tmp9z48hj4g/model.ckpt.\n",
            "INFO:tensorflow:Calling checkpoint listeners after saving checkpoint 10000...\n",
            "INFO:tensorflow:Loss for final step: 0.46330768.\n"
          ],
          "name": "stdout"
        },
        {
          "output_type": "execute_result",
          "data": {
            "text/plain": [
              "<tensorflow_estimator.python.estimator.canned.dnn.DNNClassifierV2 at 0x7f92a1e88e50>"
            ]
          },
          "metadata": {
            "tags": []
          },
          "execution_count": 14
        }
      ]
    },
    {
      "cell_type": "code",
      "metadata": {
        "id": "hSJ2AYcfS2kT"
      },
      "source": [
        "#loss - 0.46 ->the lower the loss the better"
      ],
      "execution_count": null,
      "outputs": []
    },
    {
      "cell_type": "code",
      "metadata": {
        "colab": {
          "base_uri": "https://localhost:8080/"
        },
        "id": "-BVTLz8AVokb",
        "outputId": "32d2ab02-4607-4bd1-aa53-3732b260210e"
      },
      "source": [
        "#Evaluation of model\n",
        "eval_result = classifier.evaluate(\n",
        "    input_fn=lambda: input_fn(test, test_y, training=False)\n",
        "    )\n",
        "\n",
        "#Accuracy\n",
        "print('\\nTest set accuracy: {accuracy:0.3f}\\n'.format(**eval_result))"
      ],
      "execution_count": 15,
      "outputs": [
        {
          "output_type": "stream",
          "text": [
            "INFO:tensorflow:Calling model_fn.\n",
            "INFO:tensorflow:Done calling model_fn.\n",
            "INFO:tensorflow:Starting evaluation at 2021-07-02T13:12:00\n",
            "INFO:tensorflow:Graph was finalized.\n",
            "INFO:tensorflow:Restoring parameters from /tmp/tmp9z48hj4g/model.ckpt-10000\n",
            "INFO:tensorflow:Running local_init_op.\n",
            "INFO:tensorflow:Done running local_init_op.\n",
            "INFO:tensorflow:Inference Time : 0.26208s\n",
            "INFO:tensorflow:Finished evaluation at 2021-07-02-13:12:00\n",
            "INFO:tensorflow:Saving dict for global step 10000: accuracy = 0.8666667, average_loss = 0.5456036, global_step = 10000, loss = 0.5456036\n",
            "INFO:tensorflow:Saving 'checkpoint_path' summary for global step 10000: /tmp/tmp9z48hj4g/model.ckpt-10000\n",
            "\n",
            "Test set accuracy: 0.867\n",
            "\n"
          ],
          "name": "stdout"
        }
      ]
    },
    {
      "cell_type": "code",
      "metadata": {
        "id": "9X9VWFBbWQx6"
      },
      "source": [
        "#Accuracy-86.7%"
      ],
      "execution_count": null,
      "outputs": []
    },
    {
      "cell_type": "code",
      "metadata": {
        "colab": {
          "base_uri": "https://localhost:8080/"
        },
        "id": "MYaWddPhWTm1",
        "outputId": "92658f84-56d9-4e0c-e53f-67c390c37bd0"
      },
      "source": [
        "#Predictions\n",
        "\n",
        "def input_fn(features, batch_size=256):\n",
        "  #convert inputs to a dataset without labels\n",
        "  return tf.data.Dataset.from_tensor_slices(dict(features)).batch(batch_size)\n",
        "\n",
        "f = ['SepalLength', 'SepalWidth', 'PetalLength', 'PetalWidth']\n",
        "predict = {}\n",
        "\n",
        "print(\"Please enter numeric values of the flower:\")\n",
        "for i in f:\n",
        "  valid = True\n",
        "  while valid:\n",
        "    val = input(i + \": \")\n",
        "    if not val.isdigit():\n",
        "      valid = False\n",
        "    \n",
        "    predict[i] = [float(val)]\n",
        "\n",
        "predictions = classifier.predict(input_fn=lambda: input_fn(predict))\n",
        "for pred_dict in predictions:\n",
        "  print(pred_dict)\n",
        "  class_id = pred_dict['class_ids'][0]\n",
        "  probability = pred_dict['probabilities'][class_id]\n",
        "\n",
        "  print('\\nPrediction is \"{}\" ({:.1f}%)'.format(\n",
        "      SPECIES[class_id], 100*probability\n",
        "  ))"
      ],
      "execution_count": 24,
      "outputs": [
        {
          "output_type": "stream",
          "text": [
            "Please enter numeric values of the flower:\n",
            "SepalLength: 2.4\n",
            "SepalWidth: 2.6\n",
            "PetalLength: 6.5\n",
            "PetalWidth: 6.3\n",
            "INFO:tensorflow:Calling model_fn.\n",
            "INFO:tensorflow:Done calling model_fn.\n",
            "INFO:tensorflow:Graph was finalized.\n",
            "INFO:tensorflow:Restoring parameters from /tmp/tmp9z48hj4g/model.ckpt-10000\n",
            "INFO:tensorflow:Running local_init_op.\n",
            "INFO:tensorflow:Done running local_init_op.\n",
            "{'logits': array([0.6417767, 1.04211  , 1.6966567], dtype=float32), 'probabilities': array([0.18642968, 0.2782131 , 0.5353572 ], dtype=float32), 'class_ids': array([2]), 'classes': array([b'2'], dtype=object), 'all_class_ids': array([0, 1, 2], dtype=int32), 'all_classes': array([b'0', b'1', b'2'], dtype=object)}\n",
            "\n",
            "Prediction is \"Virginica\" (53.5%)\n"
          ],
          "name": "stdout"
        }
      ]
    }
  ]
}